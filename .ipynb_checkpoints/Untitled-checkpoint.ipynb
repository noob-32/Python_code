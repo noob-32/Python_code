{
 "cells": [
  {
   "cell_type": "code",
   "execution_count": 12,
   "metadata": {},
   "outputs": [
    {
     "name": "stdout",
     "output_type": "stream",
     "text": [
      "Enter the roll_no of the student1001\n"
     ]
    }
   ],
   "source": [
    "Student_List = [[1001, 'simran', 'python', 10000],\n",
    "                [1002, 'stuti', 'data science', 15000], \n",
    "                [1003, 'pradeep', 'advance python',10000],\n",
    "                [1004, 'amaan', 'aws', 15000] ]\n",
    "\n",
    "n = int(input(\"Enter the roll_no of the student\"))\n",
    "\n",
    "if (n == Student_List):\n",
    "    print(n)\n",
    "    "
   ]
  },
  {
   "cell_type": "code",
   "execution_count": 3,
   "metadata": {},
   "outputs": [
    {
     "name": "stdout",
     "output_type": "stream",
     "text": [
      "Enter set 1 elements : 1 2 3 4\n",
      "Enter set 2 elements : 4 5 6 7\n",
      "The union is  {'2', '1', ' ', '3', '4'}\n",
      "S1 - S2 :  {'3', '2', '1'}\n",
      "S2 - S1 :  {'5', '7', '6'}\n",
      "the intersection is :  {' ', '4'}\n",
      "The symmetric difference is :  {'2', '1', '7', '3', '5', '6'}\n",
      "Enter any element in set 1 : 5\n",
      "Enter the element you want to remove from set 2 : 4\n"
     ]
    }
   ],
   "source": [
    "s1 = set(input(\"Enter set 1 elements : \"))\n",
    "s2 = set(input(\"Enter set 2 elements : \"))\n",
    "\n",
    "\n",
    "\n",
    "a = s1.union(s1)\n",
    "print(\"The union is \",a)\n",
    "b = s1.difference(s2)\n",
    "print(\"S1 - S2 : \",b)\n",
    "c = s2.difference(s1)\n",
    "print(\"S2 - S1 : \", c)\n",
    "d = s1.intersection(s2)\n",
    "print(\"the intersection is : \",d )\n",
    "e = s1.symmetric_difference(s2)\n",
    "print(\"The symmetric difference is : \", e)\n",
    "\n",
    "s1.add(input(\"Enter any element in set 1 : \"))\n",
    "s2.remove(input(\"Enter the element you want to remove from set 2 : \"))\n"
   ]
  },
  {
   "cell_type": "code",
   "execution_count": 4,
   "metadata": {},
   "outputs": [
    {
     "data": {
      "text/plain": [
       "{' ', '1', '2', '3', '4', '5'}"
      ]
     },
     "execution_count": 4,
     "metadata": {},
     "output_type": "execute_result"
    }
   ],
   "source": [
    "s1\n",
    "\n"
   ]
  },
  {
   "cell_type": "code",
   "execution_count": null,
   "metadata": {},
   "outputs": [],
   "source": [
    "\n"
   ]
  },
  {
   "cell_type": "code",
   "execution_count": null,
   "metadata": {},
   "outputs": [],
   "source": []
  },
  {
   "cell_type": "code",
   "execution_count": null,
   "metadata": {},
   "outputs": [],
   "source": []
  }
 ],
 "metadata": {
  "kernelspec": {
   "display_name": "Python 3",
   "language": "python",
   "name": "python3"
  },
  "language_info": {
   "codemirror_mode": {
    "name": "ipython",
    "version": 3
   },
   "file_extension": ".py",
   "mimetype": "text/x-python",
   "name": "python",
   "nbconvert_exporter": "python",
   "pygments_lexer": "ipython3",
   "version": "3.6.5"
  }
 },
 "nbformat": 4,
 "nbformat_minor": 2
}
