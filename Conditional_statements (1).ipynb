{
 "cells": [
  {
   "cell_type": "code",
   "execution_count": 1,
   "metadata": {},
   "outputs": [
    {
     "name": "stdout",
     "output_type": "stream",
     "text": [
      "Enter any value : 10\n"
     ]
    },
    {
     "data": {
      "text/plain": [
       "True"
      ]
     },
     "execution_count": 1,
     "metadata": {},
     "output_type": "execute_result"
    }
   ],
   "source": [
    "x = int(input(\"Enter any value : \"))\n",
    "True if x%2==0 else False"
   ]
  },
  {
   "cell_type": "code",
   "execution_count": 2,
   "metadata": {},
   "outputs": [
    {
     "name": "stdout",
     "output_type": "stream",
     "text": [
      "Enter any value : 9\n",
      "Odd\n"
     ]
    }
   ],
   "source": [
    "x = int(input(\"Enter any value : \"))\n",
    "print(\"Even\") if x%2==0 else print(\"Odd\")"
   ]
  },
  {
   "cell_type": "code",
   "execution_count": 3,
   "metadata": {},
   "outputs": [
    {
     "name": "stdout",
     "output_type": "stream",
     "text": [
      "23\n",
      "Good\n"
     ]
    }
   ],
   "source": [
    "print(\"Good\") if input() else print(\"Bad\")"
   ]
  },
  {
   "cell_type": "code",
   "execution_count": 4,
   "metadata": {},
   "outputs": [
    {
     "name": "stdout",
     "output_type": "stream",
     "text": [
      "0\n",
      "Bad\n"
     ]
    }
   ],
   "source": [
    "print(\"Good\") if int(input()) else print(\"Bad\")"
   ]
  },
  {
   "cell_type": "code",
   "execution_count": 5,
   "metadata": {},
   "outputs": [
    {
     "name": "stdout",
     "output_type": "stream",
     "text": [
      "hello world\n",
      "None\n"
     ]
    }
   ],
   "source": [
    "print(print(\"hello world\"))"
   ]
  },
  {
   "cell_type": "code",
   "execution_count": 6,
   "metadata": {},
   "outputs": [
    {
     "name": "stdout",
     "output_type": "stream",
     "text": [
      "Hello world\n",
      "Bye world\n"
     ]
    }
   ],
   "source": [
    "print(\"hello world\") if print(\"Hello world\") else print(\"Bye world\")"
   ]
  },
  {
   "cell_type": "code",
   "execution_count": 8,
   "metadata": {},
   "outputs": [
    {
     "name": "stdout",
     "output_type": "stream",
     "text": [
      "bye bye\n"
     ]
    }
   ],
   "source": [
    "print(\"hi hi\") if False else print(\"bye bye\")"
   ]
  },
  {
   "cell_type": "code",
   "execution_count": 9,
   "metadata": {},
   "outputs": [
    {
     "name": "stdout",
     "output_type": "stream",
     "text": [
      "hi hi\n"
     ]
    }
   ],
   "source": [
    "print(\"hi hi\") if True else print(\"bye bye\")"
   ]
  },
  {
   "cell_type": "code",
   "execution_count": 10,
   "metadata": {},
   "outputs": [
    {
     "name": "stdout",
     "output_type": "stream",
     "text": [
      "hello world this is mine\n"
     ]
    }
   ],
   "source": [
    "print(\"hello\",\"world\",\"this\",\"is\",\"mine\")"
   ]
  },
  {
   "cell_type": "code",
   "execution_count": 11,
   "metadata": {},
   "outputs": [
    {
     "name": "stdout",
     "output_type": "stream",
     "text": [
      "hello\n",
      "world\n"
     ]
    }
   ],
   "source": [
    "print(\"hello\")\n",
    "print(\"world\")"
   ]
  },
  {
   "cell_type": "code",
   "execution_count": 12,
   "metadata": {},
   "outputs": [
    {
     "name": "stdout",
     "output_type": "stream",
     "text": [
      "hello*world*this*is*mine\n"
     ]
    }
   ],
   "source": [
    "print(\"hello\",\"world\",\"this\",\"is\",\"mine\",sep=\"*\")"
   ]
  },
  {
   "cell_type": "code",
   "execution_count": 13,
   "metadata": {},
   "outputs": [
    {
     "name": "stdout",
     "output_type": "stream",
     "text": [
      "hello,world,this,is,mine\n"
     ]
    }
   ],
   "source": [
    "print(\"hello\",\"world\",\"this\",\"is\",\"mine\",sep=\",\")"
   ]
  },
  {
   "cell_type": "code",
   "execution_count": 16,
   "metadata": {},
   "outputs": [
    {
     "name": "stdout",
     "output_type": "stream",
     "text": [
      "hello world this is mine I love python\n"
     ]
    }
   ],
   "source": [
    "print(\"hello\",\"world\",\"this\",\"is\",\"mine\",end=\" \")\n",
    "print(\"I love python\")"
   ]
  },
  {
   "cell_type": "code",
   "execution_count": 18,
   "metadata": {},
   "outputs": [
    {
     "name": "stdout",
     "output_type": "stream",
     "text": [
      "hello*world*bye*world\n",
      "heya\n"
     ]
    }
   ],
   "source": [
    "print(\"hello\",end=\"*\")\n",
    "print(\"world\",end=\"*\")\n",
    "print(\"bye\",end=\"*\")\n",
    "print(\"world\")\n",
    "print(\"heya\")"
   ]
  },
  {
   "cell_type": "code",
   "execution_count": 19,
   "metadata": {},
   "outputs": [
    {
     "name": "stdout",
     "output_type": "stream",
     "text": [
      "Enter any value : -10\n"
     ]
    }
   ],
   "source": [
    "#if\n",
    "x = int(input(\"Enter any value : \"))\n",
    "if x>0:\n",
    "    print(\"positive\")\n"
   ]
  },
  {
   "cell_type": "code",
   "execution_count": 23,
   "metadata": {},
   "outputs": [
    {
     "name": "stdout",
     "output_type": "stream",
     "text": [
      "Enter any value : 2\n",
      "number 2 is positive\n"
     ]
    }
   ],
   "source": [
    "#if\n",
    "x = int(input(\"Enter any value : \"))\n",
    "if x>0:\n",
    "    print(f\"number {x} is positive\")\n"
   ]
  },
  {
   "cell_type": "code",
   "execution_count": 25,
   "metadata": {},
   "outputs": [
    {
     "name": "stdout",
     "output_type": "stream",
     "text": [
      "Enter any value : 23\n",
      "Number 23 is positive\n"
     ]
    }
   ],
   "source": [
    "#if-else\n",
    "#if\n",
    "x = int(input(\"Enter any value : \"))\n",
    "if x>0:\n",
    "    print(f\"Number {x} is positive\")\n",
    "else:\n",
    "    print(f\"Number {x} is negative\")\n"
   ]
  },
  {
   "cell_type": "code",
   "execution_count": 28,
   "metadata": {},
   "outputs": [
    {
     "name": "stdout",
     "output_type": "stream",
     "text": [
      "Enter any value : 20\n",
      "The number 20 is even\n"
     ]
    }
   ],
   "source": [
    "x = int(input(\"Enter any value : \"))\n",
    "if x%2 == 0:\n",
    "    print(f\"The number {x} is even\")\n",
    "else:\n",
    "    print(f\"The number {x} is odd\")"
   ]
  },
  {
   "cell_type": "code",
   "execution_count": null,
   "metadata": {},
   "outputs": [],
   "source": []
  }
 ],
 "metadata": {
  "kernelspec": {
   "display_name": "Python 3",
   "language": "python",
   "name": "python3"
  },
  "language_info": {
   "codemirror_mode": {
    "name": "ipython",
    "version": 3
   },
   "file_extension": ".py",
   "mimetype": "text/x-python",
   "name": "python",
   "nbconvert_exporter": "python",
   "pygments_lexer": "ipython3",
   "version": "3.6.5"
  }
 },
 "nbformat": 4,
 "nbformat_minor": 2
}
