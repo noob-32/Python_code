{
 "cells": [
  {
   "cell_type": "code",
   "execution_count": 12,
   "metadata": {},
   "outputs": [
    {
     "name": "stdout",
     "output_type": "stream",
     "text": [
      "Enter the roll_no of the student1001\n"
     ]
    }
   ],
   "source": [
    "Student_List = [[1001, 'simran', 'python', 10000],\n",
    "                [1002, 'stuti', 'data science', 15000], \n",
    "                [1003, 'pradeep', 'advance python',10000],\n",
    "                [1004, 'amaan', 'aws', 15000] ]\n",
    "\n",
    "n = int(input(\"Enter the roll_no of the student\"))\n",
    "\n",
    "if (n == Student_List):\n",
    "    print(n)\n",
    "    "
   ]
  },
  {
   "cell_type": "code",
   "execution_count": 1,
   "metadata": {},
   "outputs": [
    {
     "name": "stdout",
     "output_type": "stream",
     "text": [
      "Enter set 1 elements : jaipur\n",
      "Enter set 2 elements : jaidfg\n",
      "The union is  {'r', 'a', 'd', 'f', 'i', 'u', 'p', 'j', 'g'}\n",
      "S1 - S2 :  {'u', 'p', 'r'}\n",
      "S2 - S1 :  {'d', 'f', 'g'}\n",
      "the intersection is :  {'j', 'i', 'a'}\n",
      "The symmetric difference is :  {'u', 'g', 'p', 'r', 'd', 'f'}\n",
      "Enter any element in set 1 : d\n",
      "Enter the element you want to remove from set 2 : d\n"
     ]
    }
   ],
   "source": [
    "s1 = set(input(\"Enter set 1 elements : \"))\n",
    "s2 = set(input(\"Enter set 2 elements : \"))\n",
    "\n",
    "\n",
    "\n",
    "a = s1.union(s2)\n",
    "print(\"The union is \",a)\n",
    "b = s1.difference(s2)\n",
    "print(\"S1 - S2 : \",b)\n",
    "c = s2.difference(s1)\n",
    "print(\"S2 - S1 : \", c)\n",
    "d = s1.intersection(s2)\n",
    "print(\"the intersection is : \",d )\n",
    "e = s1.symmetric_difference(s2)\n",
    "print(\"The symmetric difference is : \", e)\n",
    "\n",
    "s1.add(input(\"Enter any element in set 1 : \"))\n",
    "s2.remove(input(\"Enter the element you want to remove from set 2 : \"))\n"
   ]
  },
  {
   "cell_type": "code",
   "execution_count": 2,
   "metadata": {},
   "outputs": [
    {
     "data": {
      "text/plain": [
       "{'a', 'd', 'i', 'j', 'p', 'r', 'u'}"
      ]
     },
     "execution_count": 2,
     "metadata": {},
     "output_type": "execute_result"
    }
   ],
   "source": [
    "s1\n",
    "\n"
   ]
  },
  {
   "cell_type": "code",
   "execution_count": 3,
   "metadata": {},
   "outputs": [
    {
     "data": {
      "text/plain": [
       "{'a', 'f', 'g', 'i', 'j'}"
      ]
     },
     "execution_count": 3,
     "metadata": {},
     "output_type": "execute_result"
    }
   ],
   "source": [
    "s2"
   ]
  },
  {
   "cell_type": "code",
   "execution_count": null,
   "metadata": {},
   "outputs": [],
   "source": [
    "d = dict"
   ]
  },
  {
   "cell_type": "code",
   "execution_count": 17,
   "metadata": {},
   "outputs": [
    {
     "name": "stdout",
     "output_type": "stream",
     "text": [
      "Enter your account no : 1002\n",
      "Enter the amount to be credited : 10000\n",
      "The current amount after credit in the account is  30000\n",
      "Enter the amount to be debitted : 20\n",
      "The current amount after debit in the account is  29980\n",
      "1\n"
     ]
    },
    {
     "ename": "AttributeError",
     "evalue": "'list' object has no attribute 'index_1'",
     "output_type": "error",
     "traceback": [
      "\u001b[1;31m---------------------------------------------------------------------------\u001b[0m",
      "\u001b[1;31mAttributeError\u001b[0m                            Traceback (most recent call last)",
      "\u001b[1;32m<ipython-input-17-5def21f7265d>\u001b[0m in \u001b[0;36m<module>\u001b[1;34m()\u001b[0m\n\u001b[0;32m     31\u001b[0m print(\"\"\"The details for the account no {} are \n\u001b[0;32m     32\u001b[0m \u001b[0mName\u001b[0m \u001b[0mof\u001b[0m \u001b[0mthe\u001b[0m \u001b[0maccount\u001b[0m \u001b[0mholder\u001b[0m \u001b[1;32mis\u001b[0m \u001b[1;33m{\u001b[0m\u001b[1;33m}\u001b[0m\u001b[1;33m\u001b[0m\u001b[0m\n\u001b[1;32m---> 33\u001b[1;33m Balance is {}\"\"\".format(n, d['name'].index_1, d['bal'].index_1))\n\u001b[0m",
      "\u001b[1;31mAttributeError\u001b[0m: 'list' object has no attribute 'index_1'"
     ]
    }
   ],
   "source": [
    "d = {\n",
    "    'name' : ['simran', 'mayank', 'manish', 'rahul', 'rajat'],\n",
    "    'accno' : [1001, 1002, 1003, 1004, 1005],\n",
    "    'bal': [10000, 20000, 15000, 30000, 50000],\n",
    "    'password' : ['abc', 'pass', 'passpass', 'admin', 'password']\n",
    "}\n",
    "\n",
    "\n",
    "n = int(input(\"Enter your account no : \"))\n",
    "\n",
    "\n",
    "\n",
    "a = d['accno'].index(n)\n",
    "\n",
    "\n",
    "amount = int(input(\"Enter the amount to be credited : \"))\n",
    "d['bal'][a] += amount\n",
    "\n",
    "print(\"The current amount after credit in the account is \", d['bal'][a])\n",
    "\n",
    "debit = int(input(\"Enter the amount to be debitted : \"))\n",
    "d['bal'][a] -= debit\n",
    "\n",
    "print(\"The current amount after debit in the account is \", d['bal'][a])\n",
    "\n",
    "index_1 = d['accno'].index(n)\n",
    "print(index)\n",
    "\n",
    "#print(\"The details for the account no {} are --\\n Name of the account holder is {}\\n  Balance is {}\".format(n, d['name'].index(n), d['bal'].index(n)))\n",
    "\n",
    "print(\"\"\"The details for the account no {} are \n",
    "Name of the account holder is {} \n",
    "Balance is {}\"\"\".format(n, d['name'].d['accno'].index(n), d['bal'].index_1))\n",
    "\n"
   ]
  },
  {
   "cell_type": "code",
   "execution_count": 37,
   "metadata": {},
   "outputs": [
    {
     "data": {
      "text/plain": [
       "40000"
      ]
     },
     "execution_count": 37,
     "metadata": {},
     "output_type": "execute_result"
    }
   ],
   "source": [
    "d['bal'][3]"
   ]
  },
  {
   "cell_type": "code",
   "execution_count": 21,
   "metadata": {},
   "outputs": [
    {
     "name": "stdout",
     "output_type": "stream",
     "text": [
      "['__class__', '__contains__', '__delattr__', '__delitem__', '__dir__', '__doc__', '__eq__', '__format__', '__ge__', '__getattribute__', '__getitem__', '__gt__', '__hash__', '__init__', '__init_subclass__', '__iter__', '__le__', '__len__', '__lt__', '__ne__', '__new__', '__reduce__', '__reduce_ex__', '__repr__', '__setattr__', '__setitem__', '__sizeof__', '__str__', '__subclasshook__', 'clear', 'copy', 'fromkeys', 'get', 'items', 'keys', 'pop', 'popitem', 'setdefault', 'update', 'values']\n"
     ]
    }
   ],
   "source": [
    "print(dir(d))"
   ]
  },
  {
   "cell_type": "code",
   "execution_count": 22,
   "metadata": {},
   "outputs": [
    {
     "data": {
      "text/plain": [
       "<function dict.items>"
      ]
     },
     "execution_count": 22,
     "metadata": {},
     "output_type": "execute_result"
    }
   ],
   "source": [
    "d.items"
   ]
  },
  {
   "cell_type": "code",
   "execution_count": 29,
   "metadata": {},
   "outputs": [
    {
     "name": "stdout",
     "output_type": "stream",
     "text": [
      "Help on built-in function index:\n",
      "\n",
      "index(...) method of builtins.list instance\n",
      "    L.index(value, [start, [stop]]) -> integer -- return first index of value.\n",
      "    Raises ValueError if the value is not present.\n",
      "\n"
     ]
    }
   ],
   "source": [
    "help(d['bal'].index)\n"
   ]
  },
  {
   "cell_type": "code",
   "execution_count": 5,
   "metadata": {},
   "outputs": [
    {
     "name": "stdout",
     "output_type": "stream",
     "text": [
      "Enter the value for the first number : 4\n",
      "Enter the value for the second number : 5\n",
      "Enter the value for the third number : 6\n",
      "6 is the greatest number\n"
     ]
    }
   ],
   "source": [
    "a = int(input(\"Enter the value for the first number : \"))\n",
    "b = int(input(\"Enter the value for the second number : \"))\n",
    "c = int(input(\"Enter the value for the third number : \"))\n",
    "\n",
    "if a>b and a>c : \n",
    "    print(f\"{a} is the greatest number\")\n",
    "elif b>a and b>c :     \n",
    "    print(f\"{b} is the greatest number\")\n",
    "else:\n",
    "    print(f\"{c} is the greatest number\")\n",
    "   \n",
    "\n",
    "        "
   ]
  },
  {
   "cell_type": "code",
   "execution_count": 13,
   "metadata": {},
   "outputs": [
    {
     "name": "stdout",
     "output_type": "stream",
     "text": [
      "Enter your profession : Government\n",
      "Enter your salary50000\n",
      "Loan can be granted\n"
     ]
    }
   ],
   "source": [
    "n = input(\"Enter your profession : \")\n",
    "\n",
    "if n == \"Business\":\n",
    "    turnover = int(input(\"Enter your turnover : \"))\n",
    "    if turnover < 700000:\n",
    "        print(\"Loan can be granted\")\n",
    "elif n == \"Government\":  \n",
    "    salary = int(input(\"Enter your salary\"))\n",
    "    if salary >=50000:\n",
    "        print(\"Loan can be granted\")\n",
    "else :\n",
    "    salary = int(input(\"Enter your salary\"))\n",
    "    if salary >= 70000:\n",
    "        print(\"Loan can be granted\")\n",
    "    "
   ]
  },
  {
   "cell_type": "code",
   "execution_count": 8,
   "metadata": {},
   "outputs": [
    {
     "name": "stdout",
     "output_type": "stream",
     "text": [
      "Hello \n",
      "this \n",
      "is \n",
      "stuti\n"
     ]
    }
   ],
   "source": [
    "print(\"\"\"Hello \n",
    "this \n",
    "is \n",
    "stuti\"\"\")"
   ]
  },
  {
   "cell_type": "code",
   "execution_count": 10,
   "metadata": {},
   "outputs": [
    {
     "ename": "ValueError",
     "evalue": "1001 is not in list",
     "output_type": "error",
     "traceback": [
      "\u001b[1;31m---------------------------------------------------------------------------\u001b[0m",
      "\u001b[1;31mValueError\u001b[0m                                Traceback (most recent call last)",
      "\u001b[1;32m<ipython-input-10-0b5ff9426bfd>\u001b[0m in \u001b[0;36m<module>\u001b[1;34m()\u001b[0m\n\u001b[1;32m----> 1\u001b[1;33m \u001b[0md\u001b[0m\u001b[1;33m[\u001b[0m\u001b[1;34m'name'\u001b[0m\u001b[1;33m]\u001b[0m\u001b[1;33m.\u001b[0m\u001b[0mindex\u001b[0m\u001b[1;33m(\u001b[0m\u001b[0mn\u001b[0m\u001b[1;33m)\u001b[0m\u001b[1;33m\u001b[0m\u001b[0m\n\u001b[0m",
      "\u001b[1;31mValueError\u001b[0m: 1001 is not in list"
     ]
    }
   ],
   "source": [
    "d['name'].index(n)\n"
   ]
  },
  {
   "cell_type": "code",
   "execution_count": 13,
   "metadata": {},
   "outputs": [
    {
     "data": {
      "text/plain": [
       "0"
      ]
     },
     "execution_count": 13,
     "metadata": {},
     "output_type": "execute_result"
    }
   ],
   "source": [
    "a\n"
   ]
  },
  {
   "cell_type": "code",
   "execution_count": 19,
   "metadata": {},
   "outputs": [
    {
     "name": "stdout",
     "output_type": "stream",
     "text": [
      "Enter the value of length : 20\n",
      "Enter the value of breadth : 20\n",
      "The shape is a square\n"
     ]
    }
   ],
   "source": [
    "length = int(input(\"Enter the value of length : \"))\n",
    "breadth = int(input(\"Enter the value of breadth : \"))\n",
    "\n",
    "if length == breadth :\n",
    "    print(\"The shape is a square\")\n",
    "else : \n",
    "    print(\"The shape is a rectangle\")"
   ]
  },
  {
   "cell_type": "code",
   "execution_count": 23,
   "metadata": {},
   "outputs": [
    {
     "name": "stdout",
     "output_type": "stream",
     "text": [
      "The cost of a unit is Rs 100  \n",
      "Enter how many quantity you want to purchase : 12\n",
      "Congratulations! You can avail a discount of 10%\n",
      "\n",
      "\n",
      "You have to pay Rs1080.0\n"
     ]
    }
   ],
   "source": [
    "print(\"The cost of a unit is Rs 100  \")\n",
    "quantity = int(input(\"Enter how many quantity you want to purchase : \"))\n",
    " \n",
    "Amount = quantity*100\n",
    "\n",
    "if  amount > 1000 :\n",
    "    print(\"Congratulations! You can avail a discount of 10%\")\n",
    "    print(\"\\n\")\n",
    "    n = Amount - (Amount*10)/100 \n",
    "    print(\"You have to pay Rs{}\".format(n))\n",
    "else : \n",
    "    print(\"You have to pay Rs{}\".format(Amount))"
   ]
  },
  {
   "cell_type": "code",
   "execution_count": 25,
   "metadata": {},
   "outputs": [
    {
     "name": "stdout",
     "output_type": "stream",
     "text": [
      "Enter your salary : 100000\n",
      "Enter your year of service : 6\n",
      "Congratulations! You are being given a bonus of 5% in your salary\n",
      "Your total salary is 105000.0\n"
     ]
    }
   ],
   "source": [
    "salary = int(input(\"Enter your salary : \"))\n",
    "service = int(input(\"Enter your year of service : \"))\n",
    "\n",
    "if service > 5 : \n",
    "    print(\"Congratulations! You are being given a bonus of 5% in your salary\")\n",
    "    n = salary + (salary*5)/100 \n",
    "    print(f\"Your total salary is {n}\")\n",
    "else :\n",
    "    print(f\"Your salary is {Amount}\")\n"
   ]
  },
  {
   "cell_type": "code",
   "execution_count": 28,
   "metadata": {},
   "outputs": [
    {
     "name": "stdout",
     "output_type": "stream",
     "text": [
      "Enter the no of classes held : 20\n",
      "Enter the no of classes attended : 17\n",
      "You are eligible to sit in the examination\n"
     ]
    }
   ],
   "source": [
    "Classes_held = int(input(\"Enter the no of classes held : \"))\n",
    "Classes_attended = int(input(\"Enter the no of classes attended : \"))\n",
    "\n",
    "Attended = Classes_attended/Classes_held * 100\n",
    " \n",
    "if Attended > 75 : \n",
    "    print(\"You are eligible to sit in the examination\")\n",
    "else :     \n",
    "    print(\"You are not eligible to sit in the examination\")\n",
    "    \n",
    "\n"
   ]
  },
  {
   "cell_type": "code",
   "execution_count": 1,
   "metadata": {},
   "outputs": [
    {
     "name": "stdout",
     "output_type": "stream",
     "text": [
      "Enter any no : 6\n",
      "0    0   \n",
      "1    6   \n",
      "2    12  \n",
      "3    18  \n",
      "4    24  \n",
      "5    30  \n",
      "6    36  \n",
      "7    42  \n",
      "8    48  \n",
      "9    54  \n",
      "10   60  \n"
     ]
    }
   ],
   "source": [
    "n = int(input(\"Enter any no : \"))\n",
    "\n",
    "i = 0\n",
    "while i <=10 : \n",
    "    \n",
    "    print(f'{i:<4} {n*i:<4}')\n",
    "    i+=1"
   ]
  },
  {
   "cell_type": "code",
   "execution_count": 42,
   "metadata": {},
   "outputs": [
    {
     "ename": "SyntaxError",
     "evalue": "invalid syntax (<ipython-input-42-ae84bbebe3ce>, line 1)",
     "output_type": "error",
     "traceback": [
      "\u001b[1;36m  File \u001b[1;32m\"<ipython-input-42-ae84bbebe3ce>\"\u001b[1;36m, line \u001b[1;32m1\u001b[0m\n\u001b[1;33m    while\u001b[0m\n\u001b[1;37m         ^\u001b[0m\n\u001b[1;31mSyntaxError\u001b[0m\u001b[1;31m:\u001b[0m invalid syntax\n"
     ]
    }
   ],
   "source": []
  },
  {
   "cell_type": "code",
   "execution_count": null,
   "metadata": {},
   "outputs": [],
   "source": [
    "n = int(input(\"Enter a number : \"))\n",
    "i = 0\n",
    "while i<n :\n",
    "    j = 0\n",
    "    while j<n :\n",
    "        k=0\n",
    "        while k<n-i : \n",
    "            print(\"*\", end =\"\")\n",
    "            k+=1\n",
    "        j+=1    \n",
    "        "
   ]
  },
  {
   "cell_type": "code",
   "execution_count": 3,
   "metadata": {},
   "outputs": [
    {
     "name": "stdout",
     "output_type": "stream",
     "text": [
      "Enter any number : 6\n",
      "1\n",
      "23\n",
      "456\n",
      "78910\n",
      "1112131415\n",
      "161718192021\n"
     ]
    }
   ],
   "source": [
    "n = int(input(\"Enter any number : \"))\n",
    "i=0\n",
    "k=0\n",
    "while i<n:\n",
    "    j=0\n",
    "    while j<=i:\n",
    "        k+=1\n",
    "        print(k, end=\"\")\n",
    "        j+=1\n",
    "    print()\n",
    "    i+=1   \n",
    "        "
   ]
  },
  {
   "cell_type": "code",
   "execution_count": null,
   "metadata": {},
   "outputs": [],
   "source": [
    "import math\n",
    "start = int(input(\"Enter the start number : \"))\n",
    "end = int(input(\"Enter the end number : \"))\n",
    "s=2\n",
    "n1 = math.sqrt(end)\n",
    "\n",
    "while start<= n1:\n",
    "    if s%n1 == 0:\n",
    "        break\n",
    "    s+=1\n",
    "else:\n",
    "          print(f\"The number {start} is a prime number\")\n",
    "        \n"
   ]
  },
  {
   "cell_type": "code",
   "execution_count": null,
   "metadata": {},
   "outputs": [],
   "source": []
  }
 ],
 "metadata": {
  "kernelspec": {
   "display_name": "Python 3",
   "language": "python",
   "name": "python3"
  },
  "language_info": {
   "codemirror_mode": {
    "name": "ipython",
    "version": 3
   },
   "file_extension": ".py",
   "mimetype": "text/x-python",
   "name": "python",
   "nbconvert_exporter": "python",
   "pygments_lexer": "ipython3",
   "version": "3.6.5"
  }
 },
 "nbformat": 4,
 "nbformat_minor": 2
}
